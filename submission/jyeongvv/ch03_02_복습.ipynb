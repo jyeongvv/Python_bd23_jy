{
  "nbformat": 4,
  "nbformat_minor": 0,
  "metadata": {
    "colab": {
      "provenance": [],
      "authorship_tag": "ABX9TyMSzcFseJCO2RvKylyrm5jm",
      "include_colab_link": true
    },
    "kernelspec": {
      "name": "python3",
      "display_name": "Python 3"
    },
    "language_info": {
      "name": "python"
    }
  },
  "cells": [
    {
      "cell_type": "markdown",
      "metadata": {
        "id": "view-in-github",
        "colab_type": "text"
      },
      "source": [
        "<a href=\"https://colab.research.google.com/github/jyeongvv/Python_jy/blob/main/submission/jyeongvv/ch03_02_%EB%B3%B5%EC%8A%B5.ipynb\" target=\"_parent\"><img src=\"https://colab.research.google.com/assets/colab-badge.svg\" alt=\"Open In Colab\"/></a>"
      ]
    },
    {
      "cell_type": "markdown",
      "source": [
        "# 클래스 (Class : Classification)"
      ],
      "metadata": {
        "id": "a6V23ROuksUF"
      }
    },
    {
      "cell_type": "code",
      "execution_count": 1,
      "metadata": {
        "id": "VDFmgSeVi0v-"
      },
      "outputs": [],
      "source": [
        "class Teacher: # class 클래스이름:\n",
        "    def __init__(self): # def __init__(self): 생성자\n",
        "      self.name = \"이명직\""
      ]
    },
    {
      "cell_type": "code",
      "source": [
        "lee = Teacher() # 클래스() : 해당 클래스를 기반으로 하는 인스턴스(객체) 생성\n",
        "# 클래스 : 특정한 객체를 만들 수 있는 설계도\n",
        "# 인스턴스 : 클래스로 만들어진 객체\n",
        "# 객체 : 특정한 기능이나 값들의 묶음\n",
        "lee"
      ],
      "metadata": {
        "colab": {
          "base_uri": "https://localhost:8080/"
        },
        "id": "yn_nFwn5ljib",
        "outputId": "dd189e7b-fee9-4dc6-89d4-84853f70b32f"
      },
      "execution_count": 2,
      "outputs": [
        {
          "output_type": "execute_result",
          "data": {
            "text/plain": [
              "<__main__.Teacher at 0x7f7a6a9e1400>"
            ]
          },
          "metadata": {},
          "execution_count": 2
        }
      ]
    },
    {
      "cell_type": "code",
      "source": [
        "lee.name # 인스턴스의 속성."
      ],
      "metadata": {
        "colab": {
          "base_uri": "https://localhost:8080/",
          "height": 36
        },
        "id": "NAVmaT1Gl7P4",
        "outputId": "b0076058-e3bc-482f-a9b5-5ad6275fa290"
      },
      "execution_count": 4,
      "outputs": [
        {
          "output_type": "execute_result",
          "data": {
            "text/plain": [
              "'이명직'"
            ],
            "application/vnd.google.colaboratory.intrinsic+json": {
              "type": "string"
            }
          },
          "metadata": {},
          "execution_count": 4
        }
      ]
    },
    {
      "cell_type": "code",
      "source": [
        "class Teacher: # class 클래스이름:\n",
        "    def __init__(self): # def __init__(self): 생성자\n",
        "      self.name = \"이명직\"\n",
        "\n",
        "   # 클래스에 속한 함수(기능) -> 메소드, 메서드. (method)\n",
        "    def lesson(self): # def 메소드 이름(self)\n",
        "     print(\"수업을 시작하겠습니다\")"
      ],
      "metadata": {
        "id": "qKI38D3MmFPQ"
      },
      "execution_count": 5,
      "outputs": []
    },
    {
      "cell_type": "code",
      "source": [
        "lee = Teacher()\n",
        "lee.lesson() # 인스턴스.메소드명()"
      ],
      "metadata": {
        "colab": {
          "base_uri": "https://localhost:8080/"
        },
        "id": "HuVJlawNmdsv",
        "outputId": "5b66db76-3cf7-4b9d-eab6-ae57e72ac840"
      },
      "execution_count": 6,
      "outputs": [
        {
          "output_type": "stream",
          "name": "stdout",
          "text": [
            "수업을 시작하겠습니다\n"
          ]
        }
      ]
    },
    {
      "cell_type": "code",
      "source": [
        "class Teacher: # class 클래스이름:\n",
        "    def __init__(self, name): # def __init__(self, 매개변수 - parameter): 생성자 <- 인자(argument)(외부)\n",
        "      # self.name = \"이명직\"\n",
        "      self.name = name\n",
        "\n",
        "   # 클래스에 속한 함수(기능) -> 메소드, 메서드. (method)\n",
        "    def lesson(self, time, *args, comment=\"뭘하면 좋을까요..\", **kwargs): # def 메소드 이름(self)\n",
        "      # 자기소개를 한다 (인스턴스 -> name)\n",
        "      print(f\"제 이름은 {self.name}입니다!\")\n",
        "      # 수업시간을 알려준다 (매개변수 -> time)\n",
        "      print(f\"오늘의 수업시간은{time:.2f}시간입니다!\") # .2f -> 소수점 2번째자리까지\n",
        "      # 수업 과목 목록을 돌려준다 (args -> for반복)\n",
        "      print(f\"오늘의 수업과목은\", end=\" \")\n",
        "      for v in args: # *args -> 튜플 -> 시퀀스 -> for로 반복 가능\n",
        "         # 각각의 요소(element)를 v라는 변수 이름으로 받겠다\n",
        "         # v는 루프가 한번 돌때마다 순서대로 새로운 요소 값을 받는다\n",
        "         print(v, end=\" \")\n",
        "      print(\"입니다\")\n",
        "      print(\"수업을 시작하겠습니다\")\n",
        "      print(comment)\n",
        "    #  kwarg -> 수강생명: 질문\n",
        "      for k, v in kwargs.items():\n",
        "        print(f\"{k}님이 질문하셨네요\")\n",
        "        print(f\"{v}에 대해서 답해드릴게요\")\n",
        "        print(\"실은 저도 잘 몰라오\")"
      ],
      "metadata": {
        "id": "XkVcOG5qmjAy"
      },
      "execution_count": 11,
      "outputs": []
    },
    {
      "cell_type": "code",
      "source": [
        "import math \n",
        "\n",
        "# lee = Teacher() # name -> name이라고 하는 매개변수를 입력안하면 실행 안해!\n",
        "lee = Teacher('이단단') # name -> name이라고 하는 매개변수를 입력안하면 실행 안해!\n",
        "print(lee.name)\n",
        "# lee.lesson() # time\n",
        "lee.lesson(math.pi) # time"
      ],
      "metadata": {
        "colab": {
          "base_uri": "https://localhost:8080/"
        },
        "id": "5RqsWzFLnRh9",
        "outputId": "88f1a2c9-a3ca-486a-e999-d2efc01e7620"
      },
      "execution_count": 12,
      "outputs": [
        {
          "output_type": "stream",
          "name": "stdout",
          "text": [
            "이단단\n",
            "제 이름은 이단단입니다!\n",
            "오늘의 수업시간은3.14시간입니다!\n",
            "오늘의 수업과목은 입니다\n",
            "수업을 시작하겠습니다\n",
            "뭘하면 좋을까요..\n"
          ]
        }
      ]
    },
    {
      "cell_type": "code",
      "source": [
        "lee.lesson(math.pi, \"자바\", \"자바스크립트\", \"Numpy\") "
      ],
      "metadata": {
        "colab": {
          "base_uri": "https://localhost:8080/"
        },
        "id": "etE7clmCnq0E",
        "outputId": "f2679de8-0b60-4e26-8dd9-f92ced6aa990"
      },
      "execution_count": 13,
      "outputs": [
        {
          "output_type": "stream",
          "name": "stdout",
          "text": [
            "제 이름은 이단단입니다!\n",
            "오늘의 수업시간은3.14시간입니다!\n",
            "오늘의 수업과목은 자바 자바스크립트 Numpy 입니다\n",
            "수업을 시작하겠습니다\n",
            "뭘하면 좋을까요..\n"
          ]
        }
      ]
    },
    {
      "cell_type": "code",
      "source": [
        "lee.lesson(math.pi,\n",
        "           \"자바\", \"자바스크립트\", \"Numpy\",\n",
        "           comment = \"오늘은 졸려여\",\n",
        "           john = \"강사님 타자가 너무 빨라여\",\n",
        "           james = \"강사님 수업진도만 나가면 안될까요?\",\n",
        "           kate = \"강사님 깃허브 꼬였어여\") "
      ],
      "metadata": {
        "colab": {
          "base_uri": "https://localhost:8080/"
        },
        "id": "l0_jMSVCsFb0",
        "outputId": "837ca76f-4119-4104-9ddf-6fb5ef0a0787"
      },
      "execution_count": 14,
      "outputs": [
        {
          "output_type": "stream",
          "name": "stdout",
          "text": [
            "제 이름은 이단단입니다!\n",
            "오늘의 수업시간은3.14시간입니다!\n",
            "오늘의 수업과목은 자바 자바스크립트 Numpy 입니다\n",
            "수업을 시작하겠습니다\n",
            "오늘은 졸려여\n",
            "john님이 질문하셨네요\n",
            "강사님 타자가 너무 빨라여에 대해서 답해드릴게요\n",
            "실은 저도 잘 몰라오\n",
            "james님이 질문하셨네요\n",
            "강사님 수업진도만 나가면 안될까요?에 대해서 답해드릴게요\n",
            "실은 저도 잘 몰라오\n",
            "kate님이 질문하셨네요\n",
            "강사님 깃허브 꼬였어여에 대해서 답해드릴게요\n",
            "실은 저도 잘 몰라오\n"
          ]
        }
      ]
    },
    {
      "cell_type": "code",
      "source": [
        "# enumerate : 시퀀스형 객체를 '인덱스, 값' 형태의 튜플로 원소들을 바꿔줌"
      ],
      "metadata": {
        "id": "yC-seSapnTq2"
      },
      "execution_count": null,
      "outputs": []
    },
    {
      "cell_type": "code",
      "source": [
        "class CheonBeer:\n",
        "    counter=1 # 클래스들이 모두 공유\n",
        "    \n",
        "    def __init__(self):\n",
        "        print(f\"축하합니다! {CheonBeer.counter}호점을 개점했습니다\")\n",
        "        CheonBeer.counter += 1 # 1을 더해주고 그 값을 해당 변수에 다시 대입"
      ],
      "metadata": {
        "id": "KxBC224ovjUp"
      },
      "execution_count": 18,
      "outputs": []
    },
    {
      "cell_type": "code",
      "source": [
        "s1 = CheonBeer()\n",
        "s1.counter"
      ],
      "metadata": {
        "colab": {
          "base_uri": "https://localhost:8080/"
        },
        "id": "AgE3US2xwOzY",
        "outputId": "e668ee8b-f82f-4362-e678-a5f721c0258c"
      },
      "execution_count": 19,
      "outputs": [
        {
          "output_type": "stream",
          "name": "stdout",
          "text": [
            "축하합니다! 1호점을 개점했습니다\n"
          ]
        },
        {
          "output_type": "execute_result",
          "data": {
            "text/plain": [
              "2"
            ]
          },
          "metadata": {},
          "execution_count": 19
        }
      ]
    },
    {
      "cell_type": "code",
      "source": [
        "s2 = CheonBeer()\n",
        "s1.counter, s2.counter"
      ],
      "metadata": {
        "colab": {
          "base_uri": "https://localhost:8080/"
        },
        "id": "ph_9DJj3wU1S",
        "outputId": "baac69f8-43d5-4083-f8d9-c2cd40d4cf5e"
      },
      "execution_count": 20,
      "outputs": [
        {
          "output_type": "stream",
          "name": "stdout",
          "text": [
            "축하합니다! 2호점을 개점했습니다\n"
          ]
        },
        {
          "output_type": "execute_result",
          "data": {
            "text/plain": [
              "(3, 3)"
            ]
          },
          "metadata": {},
          "execution_count": 20
        }
      ]
    },
    {
      "cell_type": "code",
      "source": [
        "# 클래스 속성\n",
        "# 클래스 -> 인스턴스 -> 개별 인스턴스 속성\n",
        "\n",
        "class CheonBeer:\n",
        "    counter=1 # 클래스들이 모두 공유\n",
        "    \n",
        "    def __init__(self):\n",
        "        print(f\"축하합니다! {self.counter}호점을 개점했습니다\")\n",
        "        self.counter += 1 # 1을 더해주고 그 값을 해당 변수에 다시 대입"
      ],
      "metadata": {
        "id": "U9UQQOoJwcMY"
      },
      "execution_count": 21,
      "outputs": []
    },
    {
      "cell_type": "code",
      "source": [
        "s1 = CheonBeer()\n",
        "s1.counter"
      ],
      "metadata": {
        "colab": {
          "base_uri": "https://localhost:8080/"
        },
        "id": "mAb0E1rcwhjw",
        "outputId": "be52aedf-3088-4d1c-ab32-353336218584"
      },
      "execution_count": 22,
      "outputs": [
        {
          "output_type": "stream",
          "name": "stdout",
          "text": [
            "축하합니다! 1호점을 개점했습니다\n"
          ]
        },
        {
          "output_type": "execute_result",
          "data": {
            "text/plain": [
              "2"
            ]
          },
          "metadata": {},
          "execution_count": 22
        }
      ]
    },
    {
      "cell_type": "code",
      "source": [
        "s2 = CheonBeer()\n",
        "s1.counter, s2.counter"
      ],
      "metadata": {
        "colab": {
          "base_uri": "https://localhost:8080/"
        },
        "id": "pOTSrDDOwkmd",
        "outputId": "46c5b848-d3ec-44b1-b37f-7bcf32c0b61b"
      },
      "execution_count": 23,
      "outputs": [
        {
          "output_type": "stream",
          "name": "stdout",
          "text": [
            "축하합니다! 1호점을 개점했습니다\n"
          ]
        },
        {
          "output_type": "execute_result",
          "data": {
            "text/plain": [
              "(2, 2)"
            ]
          },
          "metadata": {},
          "execution_count": 23
        }
      ]
    },
    {
      "cell_type": "code",
      "source": [
        "class CheonBeer:\n",
        "    counter=1 # 클래스들이 모두 공유\n",
        "    \n",
        "    def __init__(self):\n",
        "        print(f\"축하합니다! {self.counter}호점을 개점했습니다\") # self로 지정해서 하면, 클래스간 공유를 안함\n",
        "        self.my_counter = CheonBeer.counter\n",
        "        CheonBeer.counter += 1 # 1을 더해주고 그 값을 해당 변수에 다시 대입"
      ],
      "metadata": {
        "id": "qB3lrzZkwlL6"
      },
      "execution_count": 29,
      "outputs": []
    },
    {
      "cell_type": "code",
      "source": [
        "s1 = CheonBeer()\n",
        "s2 = CheonBeer()\n",
        "s1.counter, s2.counter, s1.my_counter, s2.my_counter"
      ],
      "metadata": {
        "colab": {
          "base_uri": "https://localhost:8080/"
        },
        "id": "3kr1UWBpw-yh",
        "outputId": "417650b4-9dc9-406b-e27e-b546ff9436d7"
      },
      "execution_count": 34,
      "outputs": [
        {
          "output_type": "stream",
          "name": "stdout",
          "text": [
            "축하합니다! 3호점을 개점했습니다\n",
            "축하합니다! 4호점을 개점했습니다\n"
          ]
        },
        {
          "output_type": "execute_result",
          "data": {
            "text/plain": [
              "(5, 5, 3, 4)"
            ]
          },
          "metadata": {},
          "execution_count": 34
        }
      ]
    },
    {
      "cell_type": "code",
      "source": [
        "class ManBeer(CheonBeer): # class 하위클래스(상위클래스):\n",
        "    pass"
      ],
      "metadata": {
        "id": "hkTmammYxvtw"
      },
      "execution_count": 32,
      "outputs": []
    },
    {
      "cell_type": "code",
      "source": [
        "a1 = ManBeer()\n",
        "a1.counter, a1.my_counter"
      ],
      "metadata": {
        "colab": {
          "base_uri": "https://localhost:8080/"
        },
        "id": "3io4RgJgyAwQ",
        "outputId": "f71cf0c0-fa38-4f46-9863-a00280eec923"
      },
      "execution_count": 33,
      "outputs": [
        {
          "output_type": "stream",
          "name": "stdout",
          "text": [
            "축하합니다! 2호점을 개점했습니다\n"
          ]
        },
        {
          "output_type": "execute_result",
          "data": {
            "text/plain": [
              "(3, 2)"
            ]
          },
          "metadata": {},
          "execution_count": 33
        }
      ]
    },
    {
      "cell_type": "code",
      "source": [
        "class ManBeer(CheonBeer): # class 하위클래스(상위클래스):\n",
        "    def __init__(self, prize, visitor_count):\n",
        "        print(f'{visitor_count}번째 손님에게 {prize}를 드립니다')"
      ],
      "metadata": {
        "id": "jVk83OpbyN7D"
      },
      "execution_count": 35,
      "outputs": []
    },
    {
      "cell_type": "code",
      "source": [
        "a1 = ManBeer(\"아이폰\", 10000)\n",
        "a1.counter, a1.my_counter"
      ],
      "metadata": {
        "colab": {
          "base_uri": "https://localhost:8080/",
          "height": 205
        },
        "id": "6V85cSC9yi14",
        "outputId": "bde7f623-832f-4e1b-c462-a692c4053fa5"
      },
      "execution_count": 37,
      "outputs": [
        {
          "output_type": "stream",
          "name": "stdout",
          "text": [
            "10000번째 손님에게 아이폰를 드립니다\n"
          ]
        },
        {
          "output_type": "error",
          "ename": "AttributeError",
          "evalue": "ignored",
          "traceback": [
            "\u001b[0;31m---------------------------------------------------------------------------\u001b[0m",
            "\u001b[0;31mAttributeError\u001b[0m                            Traceback (most recent call last)",
            "\u001b[0;32m<ipython-input-37-eab1d7d8cb4a>\u001b[0m in \u001b[0;36m<module>\u001b[0;34m\u001b[0m\n\u001b[1;32m      1\u001b[0m \u001b[0ma1\u001b[0m \u001b[0;34m=\u001b[0m \u001b[0mManBeer\u001b[0m\u001b[0;34m(\u001b[0m\u001b[0;34m\"아이폰\"\u001b[0m\u001b[0;34m,\u001b[0m \u001b[0;36m10000\u001b[0m\u001b[0;34m)\u001b[0m\u001b[0;34m\u001b[0m\u001b[0;34m\u001b[0m\u001b[0m\n\u001b[0;32m----> 2\u001b[0;31m \u001b[0ma1\u001b[0m\u001b[0;34m.\u001b[0m\u001b[0mcounter\u001b[0m\u001b[0;34m,\u001b[0m \u001b[0ma1\u001b[0m\u001b[0;34m.\u001b[0m\u001b[0mmy_counter\u001b[0m\u001b[0;34m\u001b[0m\u001b[0;34m\u001b[0m\u001b[0m\n\u001b[0m",
            "\u001b[0;31mAttributeError\u001b[0m: 'ManBeer' object has no attribute 'my_counter'"
          ]
        }
      ]
    },
    {
      "cell_type": "code",
      "source": [
        "class ManBeer(CheonBeer): # class 하위클래스(상위클래스):\n",
        "    def __init__(self, prize, visitor_count):\n",
        "      # super(CheonBeer).__init__()\n",
        "      super().__init__()\n",
        "      print(f'{visitor_count}번째 손님에게 {prize}를 드립니다')"
      ],
      "metadata": {
        "id": "DPIJ3pnwyxBQ"
      },
      "execution_count": 38,
      "outputs": []
    },
    {
      "cell_type": "code",
      "source": [
        "a1 = ManBeer(\"아이폰\", 10000)\n",
        "a1.counter, a1.my_counter"
      ],
      "metadata": {
        "colab": {
          "base_uri": "https://localhost:8080/"
        },
        "id": "bUtIIjDsy-0q",
        "outputId": "ef33b447-d5db-4f23-e66f-6ee932a1dd64"
      },
      "execution_count": 39,
      "outputs": [
        {
          "output_type": "stream",
          "name": "stdout",
          "text": [
            "축하합니다! 5호점을 개점했습니다\n",
            "10000번째 손님에게 아이폰를 드립니다\n"
          ]
        },
        {
          "output_type": "execute_result",
          "data": {
            "text/plain": [
              "(6, 5)"
            ]
          },
          "metadata": {},
          "execution_count": 39
        }
      ]
    },
    {
      "cell_type": "code",
      "source": [
        "class ManWine(ManBeer):\n",
        "    def __init__(self, msg):\n",
        "       super().__init__()\n",
        "       print(f\"행운의 포춘쿠키 : {msg}\")"
      ],
      "metadata": {
        "id": "wGgw9CVhzDEF"
      },
      "execution_count": 40,
      "outputs": []
    },
    {
      "cell_type": "code",
      "source": [
        "a2 = ManWine(\"주변 사람에게 잘 하세요\")\n",
        "a2.counter. a2.my_counter"
      ],
      "metadata": {
        "colab": {
          "base_uri": "https://localhost:8080/",
          "height": 313
        },
        "id": "341WlP2xzbTn",
        "outputId": "6d3acafb-c611-4bc4-ed13-0334e337a7d3"
      },
      "execution_count": 41,
      "outputs": [
        {
          "output_type": "error",
          "ename": "TypeError",
          "evalue": "ignored",
          "traceback": [
            "\u001b[0;31m---------------------------------------------------------------------------\u001b[0m",
            "\u001b[0;31mTypeError\u001b[0m                                 Traceback (most recent call last)",
            "\u001b[0;32m<ipython-input-41-ae7078ac87e6>\u001b[0m in \u001b[0;36m<module>\u001b[0;34m\u001b[0m\n\u001b[0;32m----> 1\u001b[0;31m \u001b[0ma2\u001b[0m \u001b[0;34m=\u001b[0m \u001b[0mManWine\u001b[0m\u001b[0;34m(\u001b[0m\u001b[0;34m\"주변 사람에게 잘 하세요\"\u001b[0m\u001b[0;34m)\u001b[0m\u001b[0;34m\u001b[0m\u001b[0;34m\u001b[0m\u001b[0m\n\u001b[0m\u001b[1;32m      2\u001b[0m \u001b[0ma2\u001b[0m\u001b[0;34m.\u001b[0m\u001b[0mcounter\u001b[0m\u001b[0;34m.\u001b[0m \u001b[0ma2\u001b[0m\u001b[0;34m.\u001b[0m\u001b[0mmy_counter\u001b[0m\u001b[0;34m\u001b[0m\u001b[0;34m\u001b[0m\u001b[0m\n",
            "\u001b[0;32m<ipython-input-40-a9c98015adf4>\u001b[0m in \u001b[0;36m__init__\u001b[0;34m(self, msg)\u001b[0m\n\u001b[1;32m      1\u001b[0m \u001b[0;32mclass\u001b[0m \u001b[0mManWine\u001b[0m\u001b[0;34m(\u001b[0m\u001b[0mManBeer\u001b[0m\u001b[0;34m)\u001b[0m\u001b[0;34m:\u001b[0m\u001b[0;34m\u001b[0m\u001b[0;34m\u001b[0m\u001b[0m\n\u001b[1;32m      2\u001b[0m     \u001b[0;32mdef\u001b[0m \u001b[0m__init__\u001b[0m\u001b[0;34m(\u001b[0m\u001b[0mself\u001b[0m\u001b[0;34m,\u001b[0m \u001b[0mmsg\u001b[0m\u001b[0;34m)\u001b[0m\u001b[0;34m:\u001b[0m\u001b[0;34m\u001b[0m\u001b[0;34m\u001b[0m\u001b[0m\n\u001b[0;32m----> 3\u001b[0;31m        \u001b[0msuper\u001b[0m\u001b[0;34m(\u001b[0m\u001b[0;34m)\u001b[0m\u001b[0;34m.\u001b[0m\u001b[0m__init__\u001b[0m\u001b[0;34m(\u001b[0m\u001b[0;34m)\u001b[0m\u001b[0;34m\u001b[0m\u001b[0;34m\u001b[0m\u001b[0m\n\u001b[0m\u001b[1;32m      4\u001b[0m        \u001b[0mprint\u001b[0m\u001b[0;34m(\u001b[0m\u001b[0;34mf\"행운의 포춘쿠키 : {msg}\"\u001b[0m\u001b[0;34m)\u001b[0m\u001b[0;34m\u001b[0m\u001b[0;34m\u001b[0m\u001b[0m\n",
            "\u001b[0;31mTypeError\u001b[0m: __init__() missing 2 required positional arguments: 'prize' and 'visitor_count'"
          ]
        }
      ]
    },
    {
      "cell_type": "code",
      "source": [
        "class ManWine(ManBeer):\n",
        "    def __init__(self, msg):\n",
        "       super(ManBeer, self).__init__() # Manbeer의 부모 -> CheonBeer를 호출\n",
        "       print(f\"행운의 포춘쿠키 : {msg}\")"
      ],
      "metadata": {
        "id": "gyf9RvD-zlGO"
      },
      "execution_count": 52,
      "outputs": []
    },
    {
      "cell_type": "code",
      "source": [
        "a2 = ManWine(\"주변 사람에게 잘 하세요\")\n",
        "a2.counter, a2.my_counter"
      ],
      "metadata": {
        "colab": {
          "base_uri": "https://localhost:8080/"
        },
        "id": "mZYB_pGazr3K",
        "outputId": "e886bcc7-c985-4c92-c9e8-1a86ed157d6c"
      },
      "execution_count": 53,
      "outputs": [
        {
          "output_type": "stream",
          "name": "stdout",
          "text": [
            "축하합니다! 6호점을 개점했습니다\n",
            "행운의 포춘쿠키 : 주변 사람에게 잘 하세요\n"
          ]
        },
        {
          "output_type": "execute_result",
          "data": {
            "text/plain": [
              "(7, 6)"
            ]
          },
          "metadata": {},
          "execution_count": 53
        }
      ]
    }
  ]
}