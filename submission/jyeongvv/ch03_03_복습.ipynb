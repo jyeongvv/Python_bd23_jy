{
  "nbformat": 4,
  "nbformat_minor": 0,
  "metadata": {
    "colab": {
      "provenance": [],
      "authorship_tag": "ABX9TyMM6lU00CVRmq5pAwCNmptz",
      "include_colab_link": true
    },
    "kernelspec": {
      "name": "python3",
      "display_name": "Python 3"
    },
    "language_info": {
      "name": "python"
    }
  },
  "cells": [
    {
      "cell_type": "markdown",
      "metadata": {
        "id": "view-in-github",
        "colab_type": "text"
      },
      "source": [
        "<a href=\"https://colab.research.google.com/github/jyeongvv/Python_jy/blob/main/submission/jyeongvv/ch03_03_%EB%B3%B5%EC%8A%B5.ipynb\" target=\"_parent\"><img src=\"https://colab.research.google.com/assets/colab-badge.svg\" alt=\"Open In Colab\"/></a>"
      ]
    },
    {
      "cell_type": "markdown",
      "source": [
        "# 예외처리"
      ],
      "metadata": {
        "id": "vZkqJbnm2g3Y"
      }
    },
    {
      "cell_type": "code",
      "execution_count": 4,
      "metadata": {
        "id": "8d6rQc5P2fn9"
      },
      "outputs": [],
      "source": [
        "class HambugerStore:\n",
        "    def __init__(self, meat, *args):\n",
        "        self.meat = meat # 고기의 양\n",
        "        if self.meat < 0:\n",
        "            print(\"고기의 양은 음수를 입력할 수 없습니다\")\n",
        "        self.menu = args # 메뉴 가짓수\n",
        "        for m in self.menu:\n",
        "            if m[-2:] != \"버거\":\n",
        "                print(\"메뉴의 이름은 버거로 끝나야합니다\")"
      ]
    },
    {
      "cell_type": "code",
      "source": [
        "store = HambugerStore(100, \"스펀지버거\", \"양말버거\", \"인스타감성버거\")"
      ],
      "metadata": {
        "id": "Ct_uBBTx3Nto"
      },
      "execution_count": 5,
      "outputs": []
    },
    {
      "cell_type": "code",
      "source": [
        "store = HambugerStore(\"히\")"
      ],
      "metadata": {
        "colab": {
          "base_uri": "https://localhost:8080/",
          "height": 295
        },
        "id": "3NfgUKck3ps3",
        "outputId": "6fc009ef-2a93-47fe-f24c-e9a83be7a3e2"
      },
      "execution_count": 8,
      "outputs": [
        {
          "output_type": "error",
          "ename": "TypeError",
          "evalue": "ignored",
          "traceback": [
            "\u001b[0;31m---------------------------------------------------------------------------\u001b[0m",
            "\u001b[0;31mTypeError\u001b[0m                                 Traceback (most recent call last)",
            "\u001b[0;32m<ipython-input-8-fcbd942874dc>\u001b[0m in \u001b[0;36m<module>\u001b[0;34m\u001b[0m\n\u001b[0;32m----> 1\u001b[0;31m \u001b[0mstore\u001b[0m \u001b[0;34m=\u001b[0m \u001b[0mHambugerStore\u001b[0m\u001b[0;34m(\u001b[0m\u001b[0;34m\"히\"\u001b[0m\u001b[0;34m)\u001b[0m\u001b[0;34m\u001b[0m\u001b[0;34m\u001b[0m\u001b[0m\n\u001b[0m",
            "\u001b[0;32m<ipython-input-4-ba63577ec99e>\u001b[0m in \u001b[0;36m__init__\u001b[0;34m(self, meat, *args)\u001b[0m\n\u001b[1;32m      2\u001b[0m     \u001b[0;32mdef\u001b[0m \u001b[0m__init__\u001b[0m\u001b[0;34m(\u001b[0m\u001b[0mself\u001b[0m\u001b[0;34m,\u001b[0m \u001b[0mmeat\u001b[0m\u001b[0;34m,\u001b[0m \u001b[0;34m*\u001b[0m\u001b[0margs\u001b[0m\u001b[0;34m)\u001b[0m\u001b[0;34m:\u001b[0m\u001b[0;34m\u001b[0m\u001b[0;34m\u001b[0m\u001b[0m\n\u001b[1;32m      3\u001b[0m         \u001b[0mself\u001b[0m\u001b[0;34m.\u001b[0m\u001b[0mmeat\u001b[0m \u001b[0;34m=\u001b[0m \u001b[0mmeat\u001b[0m \u001b[0;31m# 고기의 양\u001b[0m\u001b[0;34m\u001b[0m\u001b[0;34m\u001b[0m\u001b[0m\n\u001b[0;32m----> 4\u001b[0;31m         \u001b[0;32mif\u001b[0m \u001b[0mself\u001b[0m\u001b[0;34m.\u001b[0m\u001b[0mmeat\u001b[0m \u001b[0;34m<\u001b[0m \u001b[0;36m0\u001b[0m\u001b[0;34m:\u001b[0m\u001b[0;34m\u001b[0m\u001b[0;34m\u001b[0m\u001b[0m\n\u001b[0m\u001b[1;32m      5\u001b[0m             \u001b[0mprint\u001b[0m\u001b[0;34m(\u001b[0m\u001b[0;34m\"고기의 양은 음수를 입력할 수 없습니다\"\u001b[0m\u001b[0;34m)\u001b[0m\u001b[0;34m\u001b[0m\u001b[0;34m\u001b[0m\u001b[0m\n\u001b[1;32m      6\u001b[0m         \u001b[0mself\u001b[0m\u001b[0;34m.\u001b[0m\u001b[0mmenu\u001b[0m \u001b[0;34m=\u001b[0m \u001b[0margs\u001b[0m \u001b[0;31m# 메뉴 가짓수\u001b[0m\u001b[0;34m\u001b[0m\u001b[0;34m\u001b[0m\u001b[0m\n",
            "\u001b[0;31mTypeError\u001b[0m: '<' not supported between instances of 'str' and 'int'"
          ]
        }
      ]
    },
    {
      "cell_type": "code",
      "source": [
        "store = HambugerStore(-1)"
      ],
      "metadata": {
        "colab": {
          "base_uri": "https://localhost:8080/"
        },
        "id": "FwuKh4FY3he1",
        "outputId": "b6c0efe2-f433-495f-e2ec-983366227cb9"
      },
      "execution_count": 6,
      "outputs": [
        {
          "output_type": "stream",
          "name": "stdout",
          "text": [
            "고기의 양은 음수를 입력할 수 없습니다\n"
          ]
        }
      ]
    },
    {
      "cell_type": "code",
      "source": [
        "store = HambugerStore(100, \"맥너겟\")"
      ],
      "metadata": {
        "colab": {
          "base_uri": "https://localhost:8080/"
        },
        "id": "o-iCqDfy3vcJ",
        "outputId": "b50d31b8-7aa6-49b0-abab-af6d5076d209"
      },
      "execution_count": 9,
      "outputs": [
        {
          "output_type": "stream",
          "name": "stdout",
          "text": [
            "메뉴의 이름은 버거로 끝나야합니다\n"
          ]
        }
      ]
    },
    {
      "cell_type": "code",
      "source": [
        "store = HambugerStore(100, \" \")"
      ],
      "metadata": {
        "colab": {
          "base_uri": "https://localhost:8080/"
        },
        "id": "bKG_zZYk4Aci",
        "outputId": "f4c7981c-4982-46a1-81a0-70f23e824fb4"
      },
      "execution_count": 10,
      "outputs": [
        {
          "output_type": "stream",
          "name": "stdout",
          "text": [
            "메뉴의 이름은 버거로 끝나야합니다\n"
          ]
        }
      ]
    },
    {
      "cell_type": "markdown",
      "source": [
        "# 1단계 : 기본 오류 처리하기"
      ],
      "metadata": {
        "id": "5SWybczM37Jm"
      }
    },
    {
      "cell_type": "code",
      "source": [
        "try:\n",
        "    store = HambugerStore()\n",
        "except:\n",
        "    print(\"알 수 없는 오류입니다\")"
      ],
      "metadata": {
        "colab": {
          "base_uri": "https://localhost:8080/"
        },
        "id": "Ygj90jPO3-2d",
        "outputId": "dd1c02a1-952e-4402-967f-4a7cf78ae737"
      },
      "execution_count": 11,
      "outputs": [
        {
          "output_type": "stream",
          "name": "stdout",
          "text": [
            "알 수 없는 오류입니다\n"
          ]
        }
      ]
    },
    {
      "cell_type": "code",
      "source": [
        "try:\n",
        "    store = HambugerStore(100)\n",
        "except Exception as e: # except Exception as e: e라는 이름의 Exception 클래스로 에러를 해석해주겠다\n",
        "# e -> 변수로 메시지를 받을 수 있음\n",
        "    print(\"**알 수 없는 오류입니다**\")\n",
        "    print(f\"에러메시지 : {e}\")\n",
        "else:\n",
        "    print(\"정상적으로 가게가 생성되었습니다\")\n",
        "    print(f\"스토어의 고기 양 : {store.meat}\")\n",
        "    print(f\"스토어의 메뉴 목록 : {store.menu}\")\n",
        "finally:\n",
        "    print(\"**생성 과정 완료**\")"
      ],
      "metadata": {
        "colab": {
          "base_uri": "https://localhost:8080/"
        },
        "id": "arNXqIWa4R5_",
        "outputId": "9ae77e68-874e-4343-d163-fc81488bf41a"
      },
      "execution_count": 13,
      "outputs": [
        {
          "output_type": "stream",
          "name": "stdout",
          "text": [
            "정상적으로 가게가 생성되었습니다\n",
            "스토어의 고기 양 : 100\n",
            "스토어의 메뉴 목록 : ()\n",
            "**생성 과정 완료**\n"
          ]
        }
      ]
    },
    {
      "cell_type": "markdown",
      "source": [
        "# 2단계 : 사용자 정의 오류 만들고 분기시키기"
      ],
      "metadata": {
        "id": "ns91tdhW5Fbl"
      }
    },
    {
      "cell_type": "code",
      "source": [
        "# 고기 오류 : 음수 입력했을 때\n",
        "# 고기 오류 : 정수가 아닌 실수를 입력했을 때\n",
        "# 고기 오류 : 문자열 입력했을 때 (type으로 잡아주기는 하는데... 메시지가 마음에 안듦)\n",
        "# 메뉴 오류 : 메뉴가 비어있음\n",
        "# 메뉴 오류 : 메뉴에 '버거'가 포함되지 않음\n",
        "\n",
        "# 사용자 에러를 만들 때\n",
        "class MeatError(Exception):\n",
        "    def __init__(self, msg):\n",
        "        super().__init__(msg)\n",
        "\n",
        "class MenuError(Exception):\n",
        "    pass\n",
        "\n",
        "class HambugerStore:\n",
        "    meat_str_error_msg = \"문자열을 입력했습니다, 정수로 다시 입력해주세요\"\n",
        "    meat_float_error_msg = \"고기 양은 실수를 입력할 수 없습니다\"\n",
        "    meat_negative_error_msg = \"고기의 양은 음수를 입력할 수 없습니다\"\n",
        "\n",
        "    def __init__(self, meat, *args):\n",
        "        self.meat = meat # 고기의 양\n",
        "        self.handle_meat() # 하위모듈화\n",
        "        self.menu = args # 메뉴 가짓수\n",
        "        for m in self.menu:\n",
        "            if m[-2:] != \"버거\":\n",
        "                print(\"메뉴의 이름은 버거로 끝나야합니다\")\n",
        "\n",
        "\n",
        "\n",
        "    def handle_meat(self):\n",
        "        if type(self.meat) == str:\n",
        "            raise MeatError(HambugerStore.meat_str_error_msg)\n",
        "        if type(self.meat) == float and self.meat is not int:\n",
        "            raise MeatError(HambugerStore.meat_float_error_msg)\n",
        "        if self.meat < 0:\n",
        "            print(HambugerStore.meat_negative_error_msg)\n",
        "\n",
        "    def handle_menu(self):\n",
        "        if not m:\n",
        "            raise MenuError(\"메뉴의 이름은 버거로 끝나야합니다\")\n",
        "        for m in self.menu:\n",
        "            if m[-2:] != \"버거\":\n",
        "                # print(\"메뉴의 이름은 버거로 끝나야합니다\")\n",
        "                raise MenuError(\"메뉴의 이름은 버거로 끝나야합니다\")\n",
        "\n",
        "\n",
        "\n",
        "try:\n",
        "    store = HambugerStore(1, \"된장찌개버거\")\n",
        "except MeatError as e: # except Exception as e: e라는 이름의 Exception 클래스로 에러를 해석해주겠다\n",
        "# e -> 변수로 메시지를 받을 수 있음\n",
        "    print(\"**고기 관련 오류입니다**\")\n",
        "    print(f\"에러메시지 : {e}\")\n",
        "except MenuError as e:\n",
        "    print(\"**메뉴 관련 오류입니다**\")\n",
        "    print(f\"에러메시지 : {e}\")\n",
        "except Exception as e:\n",
        "    print(\"**알 수 없는 오류입니다**\")\n",
        "    print(f\"에러메시지 : {e}\")\n",
        "else:\n",
        "    print(\"정상적으로 가게가 생성되었습니다\")\n",
        "    print(f\"스토어의 고기 양 : {store.meat}\")\n",
        "    print(f\"스토어의 메뉴 목록 : {store.menu}\")\n",
        "finally:\n",
        "    print(\"**생성 과정 완료**\")"
      ],
      "metadata": {
        "colab": {
          "base_uri": "https://localhost:8080/"
        },
        "id": "SBnVfJxK5ErU",
        "outputId": "de02da78-c567-4b7b-a590-88670badd85d"
      },
      "execution_count": 19,
      "outputs": [
        {
          "output_type": "stream",
          "name": "stdout",
          "text": [
            "정상적으로 가게가 생성되었습니다\n",
            "스토어의 고기 양 : 1\n",
            "스토어의 메뉴 목록 : ('된장찌개버거',)\n",
            "**생성 과정 완료**\n"
          ]
        }
      ]
    }
  ]
}